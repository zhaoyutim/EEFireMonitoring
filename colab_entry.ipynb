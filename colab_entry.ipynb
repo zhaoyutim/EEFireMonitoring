{
 "cells": [
  {
   "cell_type": "code",
   "execution_count": null,
   "metadata": {
    "collapsed": true
   },
   "outputs": [],
   "source": [
    "import numpy as np\n",
    "import tensorflow as tf\n",
    "from tensorflow import keras\n",
    "\n",
    "from model.vit.utilities.patches import Patches\n",
    "from model.vit.vit_model import VisionTransformerGenerator\n",
    "import matplotlib.pyplot as plt"
   ]
  },
  {
   "cell_type": "code",
   "execution_count": null,
   "outputs": [],
   "source": [
    "num_classes = 100\n",
    "\n",
    "dataset_train, dataset_test = keras.datasets.cifar100.load_data()\n",
    "\n",
    "print(f\"x_train shape: {dataset_train[0].shape} - y_train shape: {dataset_train[1].shape}\")\n",
    "print(f\"x_test shape: {dataset_test[0].shape} - y_test shape: {dataset_test[1].shape}\")\n",
    "input_shape = dataset_train[0][0,:,:,:].shape\n",
    "# Patch parameters\n",
    "image_size = 72  # We'll resize input images to this size\n",
    "patch_size = 6  # Size of the patches to be extract from the input images\n",
    "num_patches = (image_size // patch_size) ** 2\n",
    "\n",
    "# Transforer parameters\n",
    "projection_dim = 64\n",
    "num_heads = 4\n",
    "transformer_units = [\n",
    "    projection_dim * 2,\n",
    "    projection_dim,\n",
    "]  # Size of the transformer layers\n",
    "transformer_layers = 8\n",
    "\n",
    "# Size of the dense layers of the final classifier\n",
    "mlp_head_units = [2048, 1024]"
   ],
   "metadata": {
    "collapsed": false,
    "pycharm": {
     "name": "#%%\n"
    }
   }
  },
  {
   "cell_type": "code",
   "execution_count": null,
   "outputs": [],
   "source": [
    "def visualizalize_patches():\n",
    "    plt.figure(figsize=(4, 4))\n",
    "    image = dataset_train[0][np.random.choice(range(dataset_train[0].shape[0]))]\n",
    "    plt.imshow(image.astype(\"uint8\"))\n",
    "    plt.axis(\"off\")\n",
    "\n",
    "    resized_image = tf.image.resize(\n",
    "        tf.convert_to_tensor([image]), size=(image_size, image_size)\n",
    "    )\n",
    "    patches = Patches(patch_size)(resized_image)\n",
    "    print(f\"Image size: {image_size} X {image_size}\")\n",
    "    print(f\"Patch size: {patch_size} X {patch_size}\")\n",
    "    print(f\"Patches per image: {patches.shape[1]}\")\n",
    "    print(f\"Elements per patch: {patches.shape[-1]}\")\n",
    "\n",
    "    n = int(np.sqrt(patches.shape[1]))\n",
    "    plt.figure(figsize=(4, 4))\n",
    "    for i, patch in enumerate(patches[0]):\n",
    "        ax = plt.subplot(n, n, i + 1)\n",
    "        patch_img = tf.reshape(patch, (patch_size, patch_size, 3))\n",
    "        plt.imshow(patch_img.numpy().astype(\"uint8\"))\n",
    "        plt.axis(\"off\")"
   ],
   "metadata": {
    "collapsed": false,
    "pycharm": {
     "name": "#%%\n"
    }
   }
  },
  {
   "cell_type": "code",
   "execution_count": null,
   "outputs": [],
   "source": [
    "visualizalize_patches()\n",
    "\n",
    "vit_gen = VisionTransformerGenerator(dataset_train[0], input_shape, patch_size, image_size, projection_dim, transformer_layers, num_heads, mlp_head_units, num_classes)\n",
    "\n",
    "history = vit_gen.run_experiment(dataset_train, dataset_test, batch_size=256, num_epochs=100, learning_rate=0.001, weight_decay=0.0001)\n"
   ],
   "metadata": {
    "collapsed": false,
    "pycharm": {
     "name": "#%%\n"
    }
   }
  }
 ],
 "metadata": {
  "kernelspec": {
   "display_name": "Python 3",
   "language": "python",
   "name": "python3"
  },
  "language_info": {
   "codemirror_mode": {
    "name": "ipython",
    "version": 2
   },
   "file_extension": ".py",
   "mimetype": "text/x-python",
   "name": "python",
   "nbconvert_exporter": "python",
   "pygments_lexer": "ipython2",
   "version": "2.7.6"
  },
  "pycharm": {
   "stem_cell": {
    "cell_type": "raw",
    "source": [],
    "metadata": {
     "collapsed": false
    }
   }
  }
 },
 "nbformat": 4,
 "nbformat_minor": 0
}